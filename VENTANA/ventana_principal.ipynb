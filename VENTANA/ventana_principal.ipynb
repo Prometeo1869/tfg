{
 "cells": [
  {
   "cell_type": "code",
   "execution_count": 3,
   "metadata": {},
   "outputs": [],
   "source": [
    "from tkinter import *\n",
    "\n",
    "#Función\n",
    "def click_button():\n",
    "    file_name = \"main.py\"\n",
    "    content = open(file_name).read()\n",
    "    exec(content)\n",
    "\n",
    "ventana = Tk()\n",
    "ventana.title(\"API to MySQL\")\n",
    "\n",
    "boton = Button(ventana, text=\"Pulsar\", width=5, height=2, command=lambda: click_button())\n",
    "boton2 = Button(ventana, text=\"Pulsar2\", width=5, height=2, command=lambda: click_button())\n",
    "\n",
    "boton.grid(row=1, column=1, padx=100, pady=200)\n",
    "boton2.grid(row=1, column=2, padx=100, pady=200)\n",
    "\n",
    "ventana.mainloop()\n",
    "\n"
   ]
  }
 ],
 "metadata": {
  "kernelspec": {
   "display_name": "Python 3",
   "language": "python",
   "name": "python3"
  },
  "language_info": {
   "codemirror_mode": {
    "name": "ipython",
    "version": 3
   },
   "file_extension": ".py",
   "mimetype": "text/x-python",
   "name": "python",
   "nbconvert_exporter": "python",
   "pygments_lexer": "ipython3",
   "version": "3.8.16"
  },
  "orig_nbformat": 4
 },
 "nbformat": 4,
 "nbformat_minor": 2
}
